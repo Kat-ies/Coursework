{
  "nbformat": 4,
  "nbformat_minor": 0,
  "metadata": {
    "colab": {
      "name": "СNN_with_color_pic.ipynb",
      "provenance": [],
      "collapsed_sections": [],
      "toc_visible": true,
      "authorship_tag": "ABX9TyPa44lQDvksadgX/CgN9I6R",
      "include_colab_link": true
    },
    "kernelspec": {
      "name": "python3",
      "display_name": "Python 3"
    },
    "accelerator": "GPU"
  },
  "cells": [
    {
      "cell_type": "markdown",
      "metadata": {
        "id": "view-in-github",
        "colab_type": "text"
      },
      "source": [
        "<a href=\"https://colab.research.google.com/github/Kat-ies/Coursework/blob/for-ideas/%D0%A1NN_with_color_pic.ipynb\" target=\"_parent\"><img src=\"https://colab.research.google.com/assets/colab-badge.svg\" alt=\"Open In Colab\"/></a>"
      ]
    },
    {
      "cell_type": "markdown",
      "metadata": {
        "id": "dcfaLLP5rCP8"
      },
      "source": [
        ""
      ]
    },
    {
      "cell_type": "markdown",
      "metadata": {
        "id": "kGbmLXKNVUYp"
      },
      "source": [
        "#**Часть 2\\***\n",
        "***CNN с цветными изображениями***"
      ]
    },
    {
      "cell_type": "code",
      "metadata": {
        "id": "TBr3q7cCV_kf",
        "colab": {
          "base_uri": "https://localhost:8080/"
        },
        "outputId": "c05310e0-7251-4180-a361-c3a9513ad6c8"
      },
      "source": [
        "import os\n",
        "import random\n",
        "import matplotlib.pyplot as plt\n",
        "import numpy as np\n",
        "import pandas as pd\n",
        "from collections import namedtuple\n",
        "from google.colab import drive\n",
        "from sklearn.externals import joblib \n",
        "from PIL import Image, ImageDraw\n",
        "\n",
        "# подключение гугл-диска\n",
        "drive.mount('/content/drive')\n",
        "\n",
        "RANDOM_SEED = 42\n",
        "PATH = '/content/drive/My Drive/Курсач/files/'"
      ],
      "execution_count": 1,
      "outputs": [
        {
          "output_type": "stream",
          "text": [
            "/usr/local/lib/python3.6/dist-packages/sklearn/externals/joblib/__init__.py:15: FutureWarning: sklearn.externals.joblib is deprecated in 0.21 and will be removed in 0.23. Please import this functionality directly from joblib, which can be installed with: pip install joblib. If this warning is raised when loading pickled models, you may need to re-serialize those models with scikit-learn 0.21+.\n",
            "  warnings.warn(msg, category=FutureWarning)\n"
          ],
          "name": "stderr"
        },
        {
          "output_type": "stream",
          "text": [
            "Mounted at /content/drive\n"
          ],
          "name": "stdout"
        }
      ]
    },
    {
      "cell_type": "code",
      "metadata": {
        "id": "bg_x1pz0Z93z"
      },
      "source": [
        "#Загрузим всё необходимое\n",
        "import torch\n",
        "import torch.nn as nn\n",
        "import torch.nn.functional as F\n",
        "import matplotlib.pyplot as plt\n",
        "from sklearn.metrics import accuracy_score\n",
        "import torch.optim as optim\n",
        "from torch.nn.utils import clip_grad_norm\n",
        "import time\n",
        "\n",
        "all_features = joblib.load(os.path.join(PATH,'all_features_color.pkl'))\n",
        "#x_test = joblib.load(os.path.join(PATH,'x_test.pkl'))\n",
        "#x_train = joblib.load(os.path.join(PATH,'x_train.pkl'))\n",
        "y_train = joblib.load(os.path.join(PATH,'y_train_color.pkl'))\n",
        "y_test = joblib.load(os.path.join(PATH,'y_test_color.pkl'))\n",
        "\n",
        "features_list = ['Haars features', 'Matrix features','Matrix + PCA features']\n",
        "categories = ['hf_train', 'mf_train','pca_train', 'hf_test', 'mf_test', 'pca_test']\n",
        "net_cols = ['fully_con_net_cpu', 'fully_con_net_gpu','convol_net_cpu', 'convol_net_gpu']\n",
        "\n",
        "net_time_df = pd.DataFrame(index = categories, columns = net_cols)\n",
        "net_accuracy = pd.DataFrame(features_list, index=['1', '2', '3'], columns=['features'])"
      ],
      "execution_count": 34,
      "outputs": []
    },
    {
      "cell_type": "code",
      "metadata": {
        "id": "RyTgX3EBawMU"
      },
      "source": [
        "class ConvNet(nn.Module): \n",
        "    def __init__(self): \n",
        "         super(ConvNet, self).__init__() \n",
        "         self.layer1 = nn.Conv2d(in_channels=3, out_channels=32, kernel_size=3)\n",
        "         self.layer2 = nn.Conv2d(in_channels=32, out_channels=64, kernel_size=3)\n",
        "\n",
        "         self.drop_out = nn.Dropout() \n",
        "         self.fc1 = nn.Linear(in_features= 2*2*64, out_features=64)\n",
        "         self.fc2 = nn.Linear(in_features=64, out_features=32)\n",
        "         self.fc3 = nn.Linear(in_features=32, out_features=2)\n",
        "    \n",
        "    def forward(self, x):\n",
        "         out = F.relu(F.max_pool2d(self.layer1(x), 3))\n",
        "         out = F.relu(F.max_pool2d(self.layer2(out), 2))\n",
        "         out = self.drop_out(out) \n",
        "         out = out.view(out.size(0), -1)\n",
        "         out = F.relu(self.fc1(out))\n",
        "         out = F.relu(self.fc2(out))\n",
        "         out = F.sigmoid(self.fc3(out))\n",
        "         return out"
      ],
      "execution_count": 35,
      "outputs": []
    },
    {
      "cell_type": "code",
      "metadata": {
        "id": "pvqMYZ3_tqmZ"
      },
      "source": [
        "def plot_graphic(y_points, title):\n",
        "    x_points = lambda x: np.arange(0,len(y_points[x]))\n",
        "\n",
        "    plt.figure(figsize=(20, 10))\n",
        "    plt.title(title, fontsize=18, fontname='Times New Roman')\n",
        "    plt.xlabel('Epoch',fontsize=16, fontname='Times New Roman')\n",
        "    plt.ylabel('Score',fontsize=16, fontname='Times New Roman')\n",
        "    plt.plot(x_points(0), y_points[0], color='#fb607f', linestyle='-')\n",
        "    if len(y_points) > 1:\n",
        "        plt.plot(x_points(1), y_points[1], color='#906bff', linestyle='-')\n",
        "        plt.plot(x_points(2), y_points[2], color='#c71585', linestyle='-')\n",
        "        plt.legend(features_list, loc='center', shadow=True,fontsize=18)\n",
        "    else:  plt.legend(['matrix'], loc='center', shadow=True,fontsize=18)\n",
        "    plt.show()"
      ],
      "execution_count": 36,
      "outputs": []
    },
    {
      "cell_type": "code",
      "metadata": {
        "id": "NvlI98GnaTZL"
      },
      "source": [
        "def nn_training(x_train, y_train, is_gpu, loop, time_df, feature_type, index,\n",
        "                y_points_acc, y_points_loss, y_points_val, net_type, learning_rate):\n",
        "    \n",
        "    #Зафиксируем всё, что фиксируется, чтобы получать одинаковые результаты между запусками\n",
        "    torch.manual_seed(RANDOM_SEED)\n",
        "    torch.cuda.manual_seed_all(RANDOM_SEED)\n",
        "    \n",
        "    if (net_type == 'convolution'):\n",
        "        net = ConvNet()\n",
        "        net_index = 1\n",
        "    else:\n",
        "        net = Net(len(x_train[0]))\n",
        "        net_index = 0\n",
        "\n",
        "    criterion =  nn.CrossEntropyLoss()\n",
        "    optimizer = torch.optim.Adam(net.parameters(), lr=learning_rate, betas=(0.9, 0.999), eps=1e-08, weight_decay=0, amsgrad=False)\n",
        "\n",
        "    #сделаем массивы точек для построения гафиков accuracy при обучении\n",
        "    y_points_for_one, y_loss_points_for_one, y_val_points_for_one = [], [], []\n",
        "\n",
        "    t0 = time.time()\n",
        "\n",
        "    #поделим ещё немного x_train, чтобы сделать  x_validate\n",
        "    x_train, x_validate  = np.split(x_train, [int(0.75*len(x_train))])\n",
        "    y_train, y_validate  = np.split(y_train, [int(0.75*len(y_train))])\n",
        "\n",
        "    x_train_torch, x_validate_torch = torch.from_numpy(x_train).float(), torch.from_numpy(x_validate).float()\n",
        "    y_train_torch,y_validate_torch = torch.from_numpy(y_train), torch.from_numpy(y_validate)\n",
        "\n",
        "    if net_type == 'convolution':\n",
        "        x_train_torch = torch.reshape(x_train_torch, (len(x_train_torch), 3, 25, 25))\n",
        "        x_validate_torch = torch.reshape(x_validate_torch, (len(x_validate_torch), 3, 25, 25))\n",
        "\n",
        "    #будем проверять на 2-х процессорах\n",
        "    if is_gpu == 1:\n",
        "        device = torch.device(\"cuda:0\" if torch.cuda.is_available() else \"cpu\")\n",
        "    else:\n",
        "        device = torch.device(\"cpu\")\n",
        "    net.to(device)\n",
        "\n",
        "    x_train_torch, y_train_torch = x_train_torch.to(device), y_train_torch.to(device)\n",
        "    x_validate_torch, y_validate_torch = x_validate_torch.to(device), y_validate_torch.to(device)\n",
        "    print('\\n', net_type, ' network')\n",
        "    print('Feature type: ', feature_type)\n",
        "    print(device)\n",
        "\n",
        "    for epoch in range(loop): # loop\n",
        "        optimizer.zero_grad()\n",
        "        output = net(x_train_torch)\n",
        "        loss = criterion(output, y_train_torch)\n",
        "        loss.backward()\n",
        "        #clip_grad_norm(net.parameters(), 0.01)\n",
        "        optimizer.step()\n",
        "\n",
        "        with torch.no_grad():\n",
        "             validate_output = net(x_validate_torch)\n",
        "\n",
        "        y_loss_points_for_one.append(loss.item())\n",
        "        y_points_for_one.append(accuracy_score(y_train, torch.argmax(output.data, dim = 1 ).cpu()))\n",
        "        y_val_points_for_one.append(accuracy_score(y_validate, torch.argmax(validate_output.data, dim = 1 ).cpu()))\n",
        "\n",
        "        if len(y_val_points_for_one) >=100 and np.all(y_val_points_for_one[-100:] == y_val_points_for_one[-1]):\n",
        "            print('Early stopping! No changes in last 100 epoch for validation samples! Epoch: ', epoch)\n",
        "            break\n",
        "    t = time.time()\n",
        "    print('Last validation accuracy: ', y_val_points_for_one[-1])\n",
        "    print('Last train accuracy: ', y_points_for_one[-1])\n",
        "    print('Loss: ', y_loss_points_for_one[-1])\n",
        "\n",
        "    #сохраним обученную сеть        \n",
        "    torch.save(net.state_dict(), os.path.join(PATH, 'Networks', feature_type + '_' + net_type + '_neural_net.pth'))\n",
        "    \n",
        "    #заполним табличку с временем\n",
        "    time_df.loc[categories[index]][net_cols[is_gpu + 2 * net_index]] += (t - t0)\n",
        "\n",
        "    #что-то не чистится:(\n",
        "    del x_train_torch, y_train_torch, x_validate_torch, y_validate_torch\n",
        "    torch.cuda.empty_cache()\n",
        "\n",
        "    #нарисуем график \n",
        "    if is_gpu == 1:\n",
        "        y_points_acc.append(y_points_for_one)\n",
        "        y_points_loss.append(y_loss_points_for_one)\n",
        "        y_points_val.append(y_val_points_for_one)\n",
        "        if len(y_points_acc) == 3 or net_type == 'convolution':\n",
        "            plot_graphic(y_points_val, 'Accuracy score for validation')\n",
        "            plot_graphic(y_points_acc, 'Accuracy score for train')\n",
        "            plot_graphic(y_points_loss, 'Loss')"
      ],
      "execution_count": 37,
      "outputs": []
    },
    {
      "cell_type": "code",
      "metadata": {
        "id": "Mkoi86Zcai4J"
      },
      "source": [
        "def nn_test(x_test, is_gpu, feature_type, data_df, time_df, index, net_type):\n",
        "\n",
        "    x_test_torch = torch.from_numpy(x_test).float()\n",
        "\n",
        "    if (net_type == 'convolution'):\n",
        "        net = ConvNet()\n",
        "        net_index = 1\n",
        "        x_test_torch = torch.reshape(x_test_torch, (len(x_test_torch),3, 25, 25))\n",
        "    else:\n",
        "        net = Net(len(x_test[0]))\n",
        "        net_index = 0\n",
        "    net.load_state_dict(torch.load(os.path.join(PATH, 'Networks', feature_type + '_' + net_type + '_neural_net.pth')))\n",
        "\n",
        "    t0 = time.time()\n",
        "  \n",
        "    \n",
        "    with torch.no_grad():\n",
        "        output = net(x_test_torch)\n",
        "        data_df['cnn'] = torch.argmax(output.data, dim = 1)\n",
        "    t = time.time()  "
      ],
      "execution_count": 45,
      "outputs": []
    },
    {
      "cell_type": "markdown",
      "metadata": {
        "id": "oEP6gfwKav4L"
      },
      "source": [
        "#Запуск\n",
        "\n",
        "После инициализации всех необходимых функций, самое время ими воспользоваться:)  \n",
        "Проводить эксперименты мы будем на 3-х признаках для полносвязной нейронной сети, и на исходной матрицы изображения 25*25 пикселей для свёрточной нейронной сети.  \n",
        "Также попробуем позапускать весь процесс на двух типах процессора для оценки временных затрат каждого.\n",
        "\n",
        "**Примечание:** поскольку google colab жадничает ресурсы, обучить сразу две сети не получается. Поэтому будем проводить обучение одной нейронки с сохранением всех данных, потом перезапустим среду и запустим аналогичный алгоритм для второй нейронки."
      ]
    },
    {
      "cell_type": "code",
      "metadata": {
        "id": "LTWWcqGtu1Zp"
      },
      "source": [
        "from pandas import read_csv\n",
        "\n",
        "def save_df(haars_net_df, matrix_net_df, matrix_net_pca_df, net_time_df):\n",
        "    haars_net_df.to_csv(os.path.join(PATH, 'Dataframes', 'haars_net_df.csv'))\n",
        "    matrix_net_df.to_csv(os.path.join(PATH, 'Dataframes', 'matrix_net_df.csv'))\n",
        "    matrix_net_pca_df.to_csv(os.path.join(PATH, 'Dataframes', 'matrix_net_pca_df.csv'))\n",
        "    net_time_df.to_csv(os.path.join(PATH, 'Dataframes', 'net_time_df.csv'))\n",
        "\n",
        "def load_df():\n",
        "    return (read_csv(os.path.join(PATH, 'Dataframes', 'haars_net_df.csv'), index_col=0, header= 0), \n",
        "    read_csv(os.path.join(PATH, 'Dataframes', 'matrix_net_df.csv'), index_col=0, header= 0),\n",
        "    read_csv(os.path.join(PATH, 'Dataframes', 'matrix_net_pca_df.csv'), index_col=0, header= 0),\n",
        "    read_csv(os.path.join(PATH, 'Dataframes', 'net_time_df.csv'), index_col=0, header= 0))\n"
      ],
      "execution_count": 29,
      "outputs": []
    },
    {
      "cell_type": "code",
      "metadata": {
        "colab": {
          "base_uri": "https://localhost:8080/"
        },
        "id": "4w9SS-fNmUo7",
        "outputId": "72f61f6b-bb90-42d0-d9d0-a0e086923322"
      },
      "source": [
        "#haars_net_df, matrix_net_df, matrix_net_pca_df, net_time_df = load_df()\n",
        "cnn_net = pd.DataFrame()\n",
        "cnn_net['y_test'] = y_test\n",
        " \n",
        "MAX_ITER = 10000\n",
        "LEARNING_RATE = 0.001\n",
        "y_points_acc, y_points_loss, y_points_val = [], [], []\n",
        "\n",
        "nn_training(all_features[1], y_train, 1, MAX_ITER, net_time_df, 'mf', 1, y_points_acc, y_points_loss, y_points_val, 'convolution', LEARNING_RATE)\n",
        "nn_test(all_features[4], 1, 'mf', cnn_net, net_time_df, 4, 'convolution') \n",
        " \n",
        "#save_df(haars_net_df, matrix_net_df, matrix_net_pca_df, net_time_df)"
      ],
      "execution_count": null,
      "outputs": [
        {
          "output_type": "stream",
          "text": [
            "\n",
            " convolution  network\n",
            "Feature type:  mf\n",
            "cuda:0\n"
          ],
          "name": "stdout"
        },
        {
          "output_type": "stream",
          "text": [
            "/usr/local/lib/python3.6/dist-packages/torch/nn/functional.py:1639: UserWarning: nn.functional.sigmoid is deprecated. Use torch.sigmoid instead.\n",
            "  warnings.warn(\"nn.functional.sigmoid is deprecated. Use torch.sigmoid instead.\")\n"
          ],
          "name": "stderr"
        }
      ]
    },
    {
      "cell_type": "code",
      "metadata": {
        "colab": {
          "base_uri": "https://localhost:8080/",
          "height": 206
        },
        "id": "ar1PAv53VMAY",
        "outputId": "9583d843-c267-4d9d-d9a9-c9b0b7fb89ef"
      },
      "source": [
        "cnn_net[:5]"
      ],
      "execution_count": 54,
      "outputs": [
        {
          "output_type": "execute_result",
          "data": {
            "text/html": [
              "<div>\n",
              "<style scoped>\n",
              "    .dataframe tbody tr th:only-of-type {\n",
              "        vertical-align: middle;\n",
              "    }\n",
              "\n",
              "    .dataframe tbody tr th {\n",
              "        vertical-align: top;\n",
              "    }\n",
              "\n",
              "    .dataframe thead th {\n",
              "        text-align: right;\n",
              "    }\n",
              "</style>\n",
              "<table border=\"1\" class=\"dataframe\">\n",
              "  <thead>\n",
              "    <tr style=\"text-align: right;\">\n",
              "      <th></th>\n",
              "      <th>y_test</th>\n",
              "      <th>cnn</th>\n",
              "    </tr>\n",
              "  </thead>\n",
              "  <tbody>\n",
              "    <tr>\n",
              "      <th>0</th>\n",
              "      <td>0</td>\n",
              "      <td>1</td>\n",
              "    </tr>\n",
              "    <tr>\n",
              "      <th>1</th>\n",
              "      <td>1</td>\n",
              "      <td>1</td>\n",
              "    </tr>\n",
              "    <tr>\n",
              "      <th>2</th>\n",
              "      <td>1</td>\n",
              "      <td>0</td>\n",
              "    </tr>\n",
              "    <tr>\n",
              "      <th>3</th>\n",
              "      <td>1</td>\n",
              "      <td>1</td>\n",
              "    </tr>\n",
              "    <tr>\n",
              "      <th>4</th>\n",
              "      <td>1</td>\n",
              "      <td>1</td>\n",
              "    </tr>\n",
              "  </tbody>\n",
              "</table>\n",
              "</div>"
            ],
            "text/plain": [
              "   y_test  cnn\n",
              "0       0    1\n",
              "1       1    1\n",
              "2       1    0\n",
              "3       1    1\n",
              "4       1    1"
            ]
          },
          "metadata": {
            "tags": []
          },
          "execution_count": 54
        }
      ]
    },
    {
      "cell_type": "code",
      "metadata": {
        "colab": {
          "base_uri": "https://localhost:8080/"
        },
        "id": "7K_zPt6EQ9Ah",
        "outputId": "3cf6b60a-145c-45c9-9a32-ebef4c6423d0"
      },
      "source": [
        "print( accuracy_score(cnn_net['y_test'], cnn_net['cnn']))"
      ],
      "execution_count": 55,
      "outputs": [
        {
          "output_type": "stream",
          "text": [
            "0.8382889932185706\n"
          ],
          "name": "stdout"
        }
      ]
    },
    {
      "cell_type": "markdown",
      "metadata": {
        "id": "x7v4UL1UVpx_"
      },
      "source": [
        "#Вывод\n",
        "1000 итераций - 0.84  \n",
        "3000 итераций - 0.83  \n",
        "10000 итераций -  \n",
        "   \n",
        "Что ж, ну прикольно. Получается примерно столько же, как и на ч\\б с при условии, что картинок стало в два раза меньше(от большего числа цветных картинок колаб вываливается и предлагает поиздеваться над кем-нибудь ещё :( )   \n",
        "        \n",
        "Но по идее можно сказать о том, что цветные изображения действительно более информативные, и если бы была возможность грузить исходную выборку в цвете, то можно было бы получить неплохой результат, но во вселенной ограниченных ресурсов добиться чего-то действительно крутого будет куда сложнее, чем казалось.."
      ]
    },
    {
      "cell_type": "code",
      "metadata": {
        "id": "yZ2-atNGU-ok"
      },
      "source": [
        ""
      ],
      "execution_count": null,
      "outputs": []
    }
  ]
}