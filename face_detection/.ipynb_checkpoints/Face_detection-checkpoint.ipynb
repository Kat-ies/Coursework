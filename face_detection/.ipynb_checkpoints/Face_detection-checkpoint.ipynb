{
 "cells": [
  {
   "cell_type": "markdown",
   "metadata": {
    "colab_type": "text",
    "id": "view-in-github"
   },
   "source": [
    "<a href=\"https://colab.research.google.com/github/Kat-ies/Coursework/blob/all_detectors/face_detection/Face_detection.ipynb\" target=\"_parent\"><img src=\"https://colab.research.google.com/assets/colab-badge.svg\" alt=\"Open In Colab\"/></a>"
   ]
  },
  {
   "cell_type": "code",
   "execution_count": 1,
   "metadata": {
    "colab": {
     "base_uri": "https://localhost:8080/"
    },
    "id": "Lqs2DR0OuyGE",
    "outputId": "f00da59a-1411-4570-9016-5118caa2878c"
   },
   "outputs": [
    {
     "name": "stdout",
     "output_type": "stream",
     "text": [
      "/home/katerinka/Coursework/src\n"
     ]
    }
   ],
   "source": [
    "#!git clone https://github.com/Kat-ies/Coursework.git\n",
    "#!git clone --single-branch --branch all_detectors https://github.com/Kat-ies/Coursework.git\n",
    "%cd /home/katerinka/Coursework/src\n",
    "#%run for_google_drive.py"
   ]
  },
  {
   "cell_type": "markdown",
   "metadata": {
    "id": "oMmnc9xD1XgD"
   },
   "source": [
    "# **Retrain Faster-RCNN**\n",
    "\n",
    "Здесь будет небольшой рассказ про основную идею: поработать с Faster-RCNN. А точнее указание, что для начала мы возьмём предобученную модель и дообучим на своих данных (с указанием размера выборки, настроек inetunning и тд..)."
   ]
  },
  {
   "cell_type": "code",
   "execution_count": null,
   "metadata": {
    "colab": {
     "base_uri": "https://localhost:8080/",
     "height": 1000,
     "referenced_widgets": [
      "c2d7136416de4bdcbdae4aa5da93fd36",
      "8c6647a5817841419e33d07514edec0d",
      "a0aa6d3f8afe4214ba332b515461b36d",
      "7e7a1c7915a94517906bd0aaec8ba5e2",
      "46a120ffc6fd47c6b850dacec6aa7af7",
      "f4f2c6ea2e974b6183959309725e7899",
      "b6b480ca32464f2e92de6a0fa5ab4f5e",
      "f57b9f2cf3a94f9a99b93fb48e154119"
     ]
    },
    "id": "Y1kA7MFNmBuv",
    "outputId": "0cc9f226-6bb9-4010-9857-95e763737fd2"
   },
   "outputs": [],
   "source": [
    "from face_detection.detectors import FasterRCNNDetector\n",
    "\n",
    "detector = FasterRCNNDetector(trained=False)\n",
    "detector.train()"
   ]
  },
  {
   "cell_type": "markdown",
   "metadata": {
    "id": "WRk2gMzSyqLL"
   },
   "source": [
    "# **Test retrained model**\n",
    "\n",
    "Здесь будет рассказ про mean average precision + выводы"
   ]
  },
  {
   "cell_type": "code",
   "execution_count": null,
   "metadata": {
    "colab": {
     "base_uri": "https://localhost:8080/",
     "height": 379
    },
    "id": "Kh376eWA5fQM",
    "outputId": "601e81dc-5cf6-4d79-9574-b300609fab17"
   },
   "outputs": [],
   "source": [
    "detector.test()"
   ]
  },
  {
   "cell_type": "markdown",
   "metadata": {
    "id": "erkmFhIkj1L6"
   },
   "source": [
    "# **Examples**\n",
    "\n",
    "Какие-нибудь слова про то, что \"а давайте посмотрим на работу сетки в действии на авторских примерах\".\n",
    "\n",
    "Сегодня тестимся на:\n",
    "\n",
    "\n",
    "* верните мой первый курс\n",
    "* людей много не бывает\n",
    "* каждой твари по подушке\n",
    "* рисованный конкурс \"найди все пасхалки\"\n",
    "* \"я не узнаю вас в гриме\"\n",
    "\n",
    "\n",
    "\n",
    "\n"
   ]
  },
  {
   "cell_type": "markdown",
   "metadata": {
    "id": "70GP1XFw1MdY"
   },
   "source": [
    "## у визуала есть возможность фильтрации по порогу\n",
    "\n",
    "по умолчанию `threshold=0.5`\n",
    "\n",
    "\n"
   ]
  },
  {
   "cell_type": "code",
   "execution_count": null,
   "metadata": {
    "colab": {
     "base_uri": "https://localhost:8080/",
     "height": 1000
    },
    "id": "CPwNIJjQtw21",
    "outputId": "98bf40ae-9aaf-4fc6-d3e9-2ada55adc96c"
   },
   "outputs": [],
   "source": [
    "from face_detection.visualization import show_image_examples\n",
    "\n",
    "show_image_examples(detector, threshold=0)"
   ]
  },
  {
   "cell_type": "code",
   "execution_count": null,
   "metadata": {
    "colab": {
     "base_uri": "https://localhost:8080/",
     "height": 1000
    },
    "id": "2u38z1wRhIBI",
    "outputId": "8edcd0e5-9ac2-4cbe-930f-cb336fd651ba"
   },
   "outputs": [],
   "source": [
    "# а вот пример  с фильтрацией по score\n",
    "\n",
    "show_image_examples(detector, threshold=0.5)"
   ]
  },
  {
   "cell_type": "markdown",
   "metadata": {
    "id": "YB3iI7Hl-e6m"
   },
   "source": [
    "# **Немного выводов**\n",
    "### (и интересных фактов)\n",
    "\n",
    "мне не нравится то, как Адам рисует рамочки. Их слишком много. Как-то SGD в визуализации лучше себя показал. \n",
    "Да и по метрике у него было 37%, что не сильно хуже. (А вообще наверное можно попробовать покрутить всякие гиперпараметры и посмотреть, что будет).\n",
    "\n",
    "**Важный пункт, про который надо не забыть** : нужно понять, из-за чего получаются недетерминированные результаты, я вроде параметры зафиксировала (когда я запустида Adam-а в первый раз, то точность была 38%, когда перезапустила с новыми файлами - 4.7%, потом 40 а теперь 39%, ыыыыыыыыыы)\n",
    "\n",
    "Вывод: на данном этапе мне кажется, что достигнутая точность так себе, но добиться лучших результатов пока что не позволяют ресурсы :(\n",
    "\n",
    "А ещё у меня график какой-то очень гладкий. В примере на гитхабе кривая была другой. Немного подозрительно, надо будет подумать над этим, мб я что-то не так сделала."
   ]
  },
  {
   "cell_type": "markdown",
   "metadata": {
    "id": "NXMFVGRzzO09"
   },
   "source": [
    "# **Пока не придумала название**\n",
    "\n",
    "А здесь будет место, где пользователь может самостоятельно загрузить любое изображение и посмотреть на результат. (Вообще было бы прикольно сделать API-шку, где был бы какой-нибудь базовый интерфейс, позволяющий поиграться с сетками. Если вдруг у меня останется время, то я бы повыпендривалась таким интересным \"приложением\":) ).\n",
    "\n",
    "P.S. На данный момент этот блок не работает, тк у меня почему загружается не весь файл, а лишь 141 байт из 158 мб :("
   ]
  },
  {
   "cell_type": "code",
   "execution_count": null,
   "metadata": {
    "id": "7plWOk05_-_W"
   },
   "outputs": [],
   "source": [
    "import os\n",
    "import requests\n",
    "from constants import *\n",
    "\n",
    "\n",
    "def download_file_from_google_drive(id, destination):\n",
    "    URL = \"https://docs.google.com/uc?export=download\"\n",
    "\n",
    "    session = requests.Session()\n",
    "\n",
    "    response = session.get(URL, params={'id': id}, stream=True)\n",
    "    token = get_confirm_token(response)\n",
    "\n",
    "    if token:\n",
    "        params = {'id': id, 'confirm': token}\n",
    "        response = session.get(URL, params=params, stream=True)\n",
    "\n",
    "    save_response_content(response, destination)\n",
    "\n",
    "\n",
    "def get_confirm_token(response):\n",
    "    for key, value in response.cookies.items():\n",
    "        if key.startswith('download_warning'):\n",
    "            return value\n",
    "\n",
    "    return None\n",
    "\n",
    "\n",
    "def save_response_content(response, destination):\n",
    "    CHUNK_SIZE = 32768\n",
    "\n",
    "    with open(destination, \"wb\") as f:\n",
    "        for chunk in response.iter_content(CHUNK_SIZE):\n",
    "            if chunk:  # filter out keep-alive new chunks\n",
    "                f.write(chunk)\n"
   ]
  },
  {
   "cell_type": "code",
   "execution_count": null,
   "metadata": {
    "id": "49bPPFIOBUc4"
   },
   "outputs": [],
   "source": [
    "model_name = 'faster-rcnn'\n",
    "\n",
    "# ну почему оно работает не так, как я хочу :((\n",
    "download_file_from_google_drive(id, os.path.join(MODEL_PATH, model_name + '.pth'))\n"
   ]
  },
  {
   "cell_type": "code",
   "execution_count": null,
   "metadata": {
    "id": "qq-qBCoKzOLa"
   },
   "outputs": [],
   "source": [
    "from google.colab import files\n",
    "from PIL import Image\n",
    "from face_detection.transforms import test_transforms\n",
    "\n",
    "# в будущем хотелось бы иметь что-то вот такое, но для этого надо\n",
    "# научиться выкачивать файл целиком с помощью get-запроса\n",
    "\n",
    "def predict_for_user():\n",
    "\n",
    "    download_file_from_google_drive(id, os.path.join(MODEL_PATH, model_name + '.pth'))\n",
    "    device = torch.device('cuda') if torch.cuda.is_available() else torch.device('cpu')\n",
    "    model = get_object_detection_model()\n",
    "    model.to(device)\n",
    "    model.load_state_dict(os.path.join(MODEL_PATH, model_name + '.pth'))\n",
    "    model.eval()\n",
    "    \n",
    "    device = torch.device('cuda') if torch.cuda.is_available() else torch.device('cpu')\n",
    "\n",
    "    image = Image.open(files.upload())\n",
    "    img = test_transforms(image)\n",
    "\n",
    "\n",
    "    with torch.no_grad():\n",
    "        prediction = model([img.to(device)])\n",
    "    \n",
    "    show_predictions(image, prediction)"
   ]
  },
  {
   "cell_type": "code",
   "execution_count": null,
   "metadata": {
    "id": "qJ_MY7GJCfp4"
   },
   "outputs": [],
   "source": [
    "predict_for_user()"
   ]
  },
  {
   "cell_type": "markdown",
   "metadata": {
    "id": "PHaMaOHXkvEZ"
   },
   "source": [
    "# **Попробуем обучить Faster RCNN с 0**"
   ]
  },
  {
   "cell_type": "code",
   "execution_count": null,
   "metadata": {
    "id": "xpfIiYdpFWcJ"
   },
   "outputs": [],
   "source": [
    "from face_detection.detectors import FasterRCNNDetector\n",
    "\n",
    "detector = FasterRCNNDetector(trained=False, pretrained=False)\n",
    "detector.train()"
   ]
  },
  {
   "cell_type": "markdown",
   "metadata": {
    "id": "k0bLC3K9pVsA"
   },
   "source": [
    "# **Потестим то, что обучилось**\n",
    "(знаете, а выглядит неплохо)"
   ]
  },
  {
   "cell_type": "code",
   "execution_count": null,
   "metadata": {
    "colab": {
     "base_uri": "https://localhost:8080/",
     "height": 466,
     "referenced_widgets": [
      "c9fa7c1592704286a507009b525f1c77",
      "7cb68d1598014c49b96855676876ad30",
      "1915f5968cf74f4fa5d79bf0e5d5a360",
      "755643579edb439c8b0f5ca1da6c653e",
      "d7e53cde5b974b7ca5b0827e5894a61b",
      "291d7ae965e34a2d9276329f1be98f4f",
      "39e38be2c1e5477da815515c176fbfa4",
      "a169f886b6d54dd596a3822e1a1bdbbc"
     ]
    },
    "id": "mha8AKWjk9l7",
    "outputId": "37128879-dfc0-44a9-db75-7a2fcfd0adbe"
   },
   "outputs": [],
   "source": [
    "detector.test()"
   ]
  },
  {
   "cell_type": "code",
   "execution_count": null,
   "metadata": {
    "colab": {
     "base_uri": "https://localhost:8080/",
     "height": 1000
    },
    "id": "O17vIj4SBE5w",
    "outputId": "190f6024-68cc-4ce8-9d76-d51538b1c17c"
   },
   "outputs": [],
   "source": [
    "from face_detection.visualization import show_image_examples\n",
    "\n",
    "show_image_examples(detector, threshold=0)"
   ]
  },
  {
   "cell_type": "markdown",
   "metadata": {
    "id": "Y_sZmtLqCIfa"
   },
   "source": [
    "# **Небольшой вывод**\n",
    "\n",
    "Если посмотреть на mAP, то для предобученной модели он чуть-чуть выше. Казалось бы, что такая модель должна работать лучше. Но вот если смотреть не на цифры, а на реальные примеры, то получается наоборот.\n",
    "\n",
    "Честно говоря, я пока не могу объяснить это. Тут 2 варианта: или я где-то накосячила, или пора идти читать теорию и искать обоснование там :)  \n",
    "\n",
    "***upd. Если внимательно сравнить ячейку выше с ячейкой с такими же параметрами для предобученной модели, то можно увидеть, что во 2 случае рамок меньше + они больше соответствуют действительности. Оно даже рисунок распознало!***  "
   ]
  },
  {
   "cell_type": "markdown",
   "metadata": {
    "id": "P7w_ktWf5ZaJ"
   },
   "source": [
    "# **Retina Net** \n",
    "\n",
    "Здесь мог бы быть текст, но уже 4.29 и я очень-очень хочу спать :("
   ]
  },
  {
   "cell_type": "code",
   "execution_count": null,
   "metadata": {
    "id": "Gxqa3wOUN6DK"
   },
   "outputs": [],
   "source": [
    "from face_detection.detectors import RetinaNetDetector\n",
    "\n",
    "detector = RetinaNetDetector(trained=False)\n",
    "detector.train()"
   ]
  },
  {
   "cell_type": "markdown",
   "metadata": {
    "id": "tbFuQB59ceh0"
   },
   "source": [
    "# **Test retrained Retina Net**\n"
   ]
  },
  {
   "cell_type": "code",
   "execution_count": null,
   "metadata": {
    "colab": {
     "base_uri": "https://localhost:8080/",
     "height": 379
    },
    "id": "4OCinKPn4NyG",
    "outputId": "7f2c291c-21d9-433b-c8f0-49901ab83abc"
   },
   "outputs": [],
   "source": [
    "detector.test()"
   ]
  },
  {
   "cell_type": "markdown",
   "metadata": {
    "id": "_z_2xyLmcmfy"
   },
   "source": [
    "# **Examples**"
   ]
  },
  {
   "cell_type": "code",
   "execution_count": null,
   "metadata": {
    "colab": {
     "base_uri": "https://localhost:8080/",
     "height": 1000
    },
    "id": "Ir5yobDOcbOF",
    "outputId": "e88dd63a-aaba-4c12-b6b6-9f705fd98fec"
   },
   "outputs": [],
   "source": [
    "from face_detection.visualization import show_image_examples\n",
    "\n",
    "show_image_examples(detector, threshold=0.5)"
   ]
  },
  {
   "cell_type": "markdown",
   "metadata": {
    "id": "qsp2cLDSdMD9"
   },
   "source": [
    "# **Train not pretrained Retina Net**\n",
    "\n"
   ]
  },
  {
   "cell_type": "code",
   "execution_count": null,
   "metadata": {
    "id": "RmHSTINHeeAz"
   },
   "outputs": [],
   "source": [
    "from face_detection.detectors import RetinaNetDetector\n",
    "\n",
    "detector = RetinaNetDetector(trained=False, pretrained=False)\n",
    "detector.train()"
   ]
  },
  {
   "cell_type": "code",
   "execution_count": null,
   "metadata": {
    "colab": {
     "base_uri": "https://localhost:8080/",
     "height": 379
    },
    "id": "HCVm9_D8e1IY",
    "outputId": "b380113a-99d6-4ebe-e1ce-42fec410feb1"
   },
   "outputs": [],
   "source": [
    "detector.test()"
   ]
  },
  {
   "cell_type": "code",
   "execution_count": null,
   "metadata": {
    "colab": {
     "base_uri": "https://localhost:8080/",
     "height": 1000
    },
    "id": "ZSeAiga5etDg",
    "outputId": "3e4572a8-9240-401f-c863-14336f1b7b19"
   },
   "outputs": [],
   "source": [
    "from face_detection.visualization import show_image_examples\n",
    "\n",
    "show_image_examples(detector, threshold=0)"
   ]
  },
  {
   "cell_type": "markdown",
   "metadata": {
    "id": "0WDXPTpAQnYu"
   },
   "source": [
    "# **Viola-Jhones detector**"
   ]
  },
  {
   "cell_type": "code",
   "execution_count": null,
   "metadata": {
    "colab": {
     "base_uri": "https://localhost:8080/",
     "height": 1000
    },
    "id": "Zcjidp1NsWVy",
    "outputId": "90ce0fd2-ec73-4110-8283-1e9cdb364a26"
   },
   "outputs": [],
   "source": [
    "from face_detection.detectors import ViolaJhonesDetector\n",
    "from face_detection.visualization import show_image_examples\n",
    "\n",
    "detector = ViolaJhonesDetector()\n",
    "show_image_examples(detector, threshold=0)"
   ]
  },
  {
   "cell_type": "code",
   "execution_count": null,
   "metadata": {
    "colab": {
     "base_uri": "https://localhost:8080/"
    },
    "id": "XHuNDK3LSulf",
    "outputId": "239a43ae-ca0c-4958-9ee2-f1edd7c38673"
   },
   "outputs": [],
   "source": [
    "gpu_info = !nvidia-smi\n",
    "gpu_info = '\\n'.join(gpu_info)\n",
    "if gpu_info.find('failed') >= 0:\n",
    "  print('Select the Runtime > \"Change runtime type\" menu to enable a GPU accelerator, ')\n",
    "  print('and then re-execute this cell.')\n",
    "else:\n",
    "  print(gpu_info)"
   ]
  }
 ],
 "metadata": {
  "accelerator": "GPU",
  "colab": {
   "collapsed_sections": [],
   "include_colab_link": true,
   "name": "Face_detection.ipynb",
   "provenance": []
  },
  "kernelspec": {
   "display_name": "Python 3",
   "language": "python",
   "name": "python3"
  },
  "language_info": {
   "codemirror_mode": {
    "name": "ipython",
    "version": 3
   },
   "file_extension": ".py",
   "mimetype": "text/x-python",
   "name": "python",
   "nbconvert_exporter": "python",
   "pygments_lexer": "ipython3",
   "version": "3.7.10"
  },
  "widgets": {
   "application/vnd.jupyter.widget-state+json": {
    "1915f5968cf74f4fa5d79bf0e5d5a360": {
     "model_module": "@jupyter-widgets/controls",
     "model_name": "HTMLModel",
     "state": {
      "_dom_classes": [],
      "_model_module": "@jupyter-widgets/controls",
      "_model_module_version": "1.5.0",
      "_model_name": "HTMLModel",
      "_view_count": null,
      "_view_module": "@jupyter-widgets/controls",
      "_view_module_version": "1.5.0",
      "_view_name": "HTMLView",
      "description": "",
      "description_tooltip": null,
      "layout": "IPY_MODEL_39e38be2c1e5477da815515c176fbfa4",
      "placeholder": "​",
      "style": "IPY_MODEL_a169f886b6d54dd596a3822e1a1bdbbc",
      "value": " 97.8M/97.8M [00:07&lt;00:00, 13.9MB/s]"
     }
    },
    "291d7ae965e34a2d9276329f1be98f4f": {
     "model_module": "@jupyter-widgets/controls",
     "model_name": "ProgressStyleModel",
     "state": {
      "_model_module": "@jupyter-widgets/controls",
      "_model_module_version": "1.5.0",
      "_model_name": "ProgressStyleModel",
      "_view_count": null,
      "_view_module": "@jupyter-widgets/base",
      "_view_module_version": "1.2.0",
      "_view_name": "StyleView",
      "bar_color": null,
      "description_width": "initial"
     }
    },
    "39e38be2c1e5477da815515c176fbfa4": {
     "model_module": "@jupyter-widgets/base",
     "model_name": "LayoutModel",
     "state": {
      "_model_module": "@jupyter-widgets/base",
      "_model_module_version": "1.2.0",
      "_model_name": "LayoutModel",
      "_view_count": null,
      "_view_module": "@jupyter-widgets/base",
      "_view_module_version": "1.2.0",
      "_view_name": "LayoutView",
      "align_content": null,
      "align_items": null,
      "align_self": null,
      "border": null,
      "bottom": null,
      "display": null,
      "flex": null,
      "flex_flow": null,
      "grid_area": null,
      "grid_auto_columns": null,
      "grid_auto_flow": null,
      "grid_auto_rows": null,
      "grid_column": null,
      "grid_gap": null,
      "grid_row": null,
      "grid_template_areas": null,
      "grid_template_columns": null,
      "grid_template_rows": null,
      "height": null,
      "justify_content": null,
      "justify_items": null,
      "left": null,
      "margin": null,
      "max_height": null,
      "max_width": null,
      "min_height": null,
      "min_width": null,
      "object_fit": null,
      "object_position": null,
      "order": null,
      "overflow": null,
      "overflow_x": null,
      "overflow_y": null,
      "padding": null,
      "right": null,
      "top": null,
      "visibility": null,
      "width": null
     }
    },
    "46a120ffc6fd47c6b850dacec6aa7af7": {
     "model_module": "@jupyter-widgets/base",
     "model_name": "LayoutModel",
     "state": {
      "_model_module": "@jupyter-widgets/base",
      "_model_module_version": "1.2.0",
      "_model_name": "LayoutModel",
      "_view_count": null,
      "_view_module": "@jupyter-widgets/base",
      "_view_module_version": "1.2.0",
      "_view_name": "LayoutView",
      "align_content": null,
      "align_items": null,
      "align_self": null,
      "border": null,
      "bottom": null,
      "display": null,
      "flex": null,
      "flex_flow": null,
      "grid_area": null,
      "grid_auto_columns": null,
      "grid_auto_flow": null,
      "grid_auto_rows": null,
      "grid_column": null,
      "grid_gap": null,
      "grid_row": null,
      "grid_template_areas": null,
      "grid_template_columns": null,
      "grid_template_rows": null,
      "height": null,
      "justify_content": null,
      "justify_items": null,
      "left": null,
      "margin": null,
      "max_height": null,
      "max_width": null,
      "min_height": null,
      "min_width": null,
      "object_fit": null,
      "object_position": null,
      "order": null,
      "overflow": null,
      "overflow_x": null,
      "overflow_y": null,
      "padding": null,
      "right": null,
      "top": null,
      "visibility": null,
      "width": null
     }
    },
    "755643579edb439c8b0f5ca1da6c653e": {
     "model_module": "@jupyter-widgets/base",
     "model_name": "LayoutModel",
     "state": {
      "_model_module": "@jupyter-widgets/base",
      "_model_module_version": "1.2.0",
      "_model_name": "LayoutModel",
      "_view_count": null,
      "_view_module": "@jupyter-widgets/base",
      "_view_module_version": "1.2.0",
      "_view_name": "LayoutView",
      "align_content": null,
      "align_items": null,
      "align_self": null,
      "border": null,
      "bottom": null,
      "display": null,
      "flex": null,
      "flex_flow": null,
      "grid_area": null,
      "grid_auto_columns": null,
      "grid_auto_flow": null,
      "grid_auto_rows": null,
      "grid_column": null,
      "grid_gap": null,
      "grid_row": null,
      "grid_template_areas": null,
      "grid_template_columns": null,
      "grid_template_rows": null,
      "height": null,
      "justify_content": null,
      "justify_items": null,
      "left": null,
      "margin": null,
      "max_height": null,
      "max_width": null,
      "min_height": null,
      "min_width": null,
      "object_fit": null,
      "object_position": null,
      "order": null,
      "overflow": null,
      "overflow_x": null,
      "overflow_y": null,
      "padding": null,
      "right": null,
      "top": null,
      "visibility": null,
      "width": null
     }
    },
    "7cb68d1598014c49b96855676876ad30": {
     "model_module": "@jupyter-widgets/controls",
     "model_name": "FloatProgressModel",
     "state": {
      "_dom_classes": [],
      "_model_module": "@jupyter-widgets/controls",
      "_model_module_version": "1.5.0",
      "_model_name": "FloatProgressModel",
      "_view_count": null,
      "_view_module": "@jupyter-widgets/controls",
      "_view_module_version": "1.5.0",
      "_view_name": "ProgressView",
      "bar_style": "success",
      "description": "100%",
      "description_tooltip": null,
      "layout": "IPY_MODEL_d7e53cde5b974b7ca5b0827e5894a61b",
      "max": 102502400,
      "min": 0,
      "orientation": "horizontal",
      "style": "IPY_MODEL_291d7ae965e34a2d9276329f1be98f4f",
      "value": 102502400
     }
    },
    "7e7a1c7915a94517906bd0aaec8ba5e2": {
     "model_module": "@jupyter-widgets/base",
     "model_name": "LayoutModel",
     "state": {
      "_model_module": "@jupyter-widgets/base",
      "_model_module_version": "1.2.0",
      "_model_name": "LayoutModel",
      "_view_count": null,
      "_view_module": "@jupyter-widgets/base",
      "_view_module_version": "1.2.0",
      "_view_name": "LayoutView",
      "align_content": null,
      "align_items": null,
      "align_self": null,
      "border": null,
      "bottom": null,
      "display": null,
      "flex": null,
      "flex_flow": null,
      "grid_area": null,
      "grid_auto_columns": null,
      "grid_auto_flow": null,
      "grid_auto_rows": null,
      "grid_column": null,
      "grid_gap": null,
      "grid_row": null,
      "grid_template_areas": null,
      "grid_template_columns": null,
      "grid_template_rows": null,
      "height": null,
      "justify_content": null,
      "justify_items": null,
      "left": null,
      "margin": null,
      "max_height": null,
      "max_width": null,
      "min_height": null,
      "min_width": null,
      "object_fit": null,
      "object_position": null,
      "order": null,
      "overflow": null,
      "overflow_x": null,
      "overflow_y": null,
      "padding": null,
      "right": null,
      "top": null,
      "visibility": null,
      "width": null
     }
    },
    "8c6647a5817841419e33d07514edec0d": {
     "model_module": "@jupyter-widgets/controls",
     "model_name": "FloatProgressModel",
     "state": {
      "_dom_classes": [],
      "_model_module": "@jupyter-widgets/controls",
      "_model_module_version": "1.5.0",
      "_model_name": "FloatProgressModel",
      "_view_count": null,
      "_view_module": "@jupyter-widgets/controls",
      "_view_module_version": "1.5.0",
      "_view_name": "ProgressView",
      "bar_style": "success",
      "description": "100%",
      "description_tooltip": null,
      "layout": "IPY_MODEL_46a120ffc6fd47c6b850dacec6aa7af7",
      "max": 167502836,
      "min": 0,
      "orientation": "horizontal",
      "style": "IPY_MODEL_f4f2c6ea2e974b6183959309725e7899",
      "value": 167502836
     }
    },
    "a0aa6d3f8afe4214ba332b515461b36d": {
     "model_module": "@jupyter-widgets/controls",
     "model_name": "HTMLModel",
     "state": {
      "_dom_classes": [],
      "_model_module": "@jupyter-widgets/controls",
      "_model_module_version": "1.5.0",
      "_model_name": "HTMLModel",
      "_view_count": null,
      "_view_module": "@jupyter-widgets/controls",
      "_view_module_version": "1.5.0",
      "_view_name": "HTMLView",
      "description": "",
      "description_tooltip": null,
      "layout": "IPY_MODEL_b6b480ca32464f2e92de6a0fa5ab4f5e",
      "placeholder": "​",
      "style": "IPY_MODEL_f57b9f2cf3a94f9a99b93fb48e154119",
      "value": " 160M/160M [00:12&lt;00:00, 12.9MB/s]"
     }
    },
    "a169f886b6d54dd596a3822e1a1bdbbc": {
     "model_module": "@jupyter-widgets/controls",
     "model_name": "DescriptionStyleModel",
     "state": {
      "_model_module": "@jupyter-widgets/controls",
      "_model_module_version": "1.5.0",
      "_model_name": "DescriptionStyleModel",
      "_view_count": null,
      "_view_module": "@jupyter-widgets/base",
      "_view_module_version": "1.2.0",
      "_view_name": "StyleView",
      "description_width": ""
     }
    },
    "b6b480ca32464f2e92de6a0fa5ab4f5e": {
     "model_module": "@jupyter-widgets/base",
     "model_name": "LayoutModel",
     "state": {
      "_model_module": "@jupyter-widgets/base",
      "_model_module_version": "1.2.0",
      "_model_name": "LayoutModel",
      "_view_count": null,
      "_view_module": "@jupyter-widgets/base",
      "_view_module_version": "1.2.0",
      "_view_name": "LayoutView",
      "align_content": null,
      "align_items": null,
      "align_self": null,
      "border": null,
      "bottom": null,
      "display": null,
      "flex": null,
      "flex_flow": null,
      "grid_area": null,
      "grid_auto_columns": null,
      "grid_auto_flow": null,
      "grid_auto_rows": null,
      "grid_column": null,
      "grid_gap": null,
      "grid_row": null,
      "grid_template_areas": null,
      "grid_template_columns": null,
      "grid_template_rows": null,
      "height": null,
      "justify_content": null,
      "justify_items": null,
      "left": null,
      "margin": null,
      "max_height": null,
      "max_width": null,
      "min_height": null,
      "min_width": null,
      "object_fit": null,
      "object_position": null,
      "order": null,
      "overflow": null,
      "overflow_x": null,
      "overflow_y": null,
      "padding": null,
      "right": null,
      "top": null,
      "visibility": null,
      "width": null
     }
    },
    "c2d7136416de4bdcbdae4aa5da93fd36": {
     "model_module": "@jupyter-widgets/controls",
     "model_name": "HBoxModel",
     "state": {
      "_dom_classes": [],
      "_model_module": "@jupyter-widgets/controls",
      "_model_module_version": "1.5.0",
      "_model_name": "HBoxModel",
      "_view_count": null,
      "_view_module": "@jupyter-widgets/controls",
      "_view_module_version": "1.5.0",
      "_view_name": "HBoxView",
      "box_style": "",
      "children": [
       "IPY_MODEL_8c6647a5817841419e33d07514edec0d",
       "IPY_MODEL_a0aa6d3f8afe4214ba332b515461b36d"
      ],
      "layout": "IPY_MODEL_7e7a1c7915a94517906bd0aaec8ba5e2"
     }
    },
    "c9fa7c1592704286a507009b525f1c77": {
     "model_module": "@jupyter-widgets/controls",
     "model_name": "HBoxModel",
     "state": {
      "_dom_classes": [],
      "_model_module": "@jupyter-widgets/controls",
      "_model_module_version": "1.5.0",
      "_model_name": "HBoxModel",
      "_view_count": null,
      "_view_module": "@jupyter-widgets/controls",
      "_view_module_version": "1.5.0",
      "_view_name": "HBoxView",
      "box_style": "",
      "children": [
       "IPY_MODEL_7cb68d1598014c49b96855676876ad30",
       "IPY_MODEL_1915f5968cf74f4fa5d79bf0e5d5a360"
      ],
      "layout": "IPY_MODEL_755643579edb439c8b0f5ca1da6c653e"
     }
    },
    "d7e53cde5b974b7ca5b0827e5894a61b": {
     "model_module": "@jupyter-widgets/base",
     "model_name": "LayoutModel",
     "state": {
      "_model_module": "@jupyter-widgets/base",
      "_model_module_version": "1.2.0",
      "_model_name": "LayoutModel",
      "_view_count": null,
      "_view_module": "@jupyter-widgets/base",
      "_view_module_version": "1.2.0",
      "_view_name": "LayoutView",
      "align_content": null,
      "align_items": null,
      "align_self": null,
      "border": null,
      "bottom": null,
      "display": null,
      "flex": null,
      "flex_flow": null,
      "grid_area": null,
      "grid_auto_columns": null,
      "grid_auto_flow": null,
      "grid_auto_rows": null,
      "grid_column": null,
      "grid_gap": null,
      "grid_row": null,
      "grid_template_areas": null,
      "grid_template_columns": null,
      "grid_template_rows": null,
      "height": null,
      "justify_content": null,
      "justify_items": null,
      "left": null,
      "margin": null,
      "max_height": null,
      "max_width": null,
      "min_height": null,
      "min_width": null,
      "object_fit": null,
      "object_position": null,
      "order": null,
      "overflow": null,
      "overflow_x": null,
      "overflow_y": null,
      "padding": null,
      "right": null,
      "top": null,
      "visibility": null,
      "width": null
     }
    },
    "f4f2c6ea2e974b6183959309725e7899": {
     "model_module": "@jupyter-widgets/controls",
     "model_name": "ProgressStyleModel",
     "state": {
      "_model_module": "@jupyter-widgets/controls",
      "_model_module_version": "1.5.0",
      "_model_name": "ProgressStyleModel",
      "_view_count": null,
      "_view_module": "@jupyter-widgets/base",
      "_view_module_version": "1.2.0",
      "_view_name": "StyleView",
      "bar_color": null,
      "description_width": "initial"
     }
    },
    "f57b9f2cf3a94f9a99b93fb48e154119": {
     "model_module": "@jupyter-widgets/controls",
     "model_name": "DescriptionStyleModel",
     "state": {
      "_model_module": "@jupyter-widgets/controls",
      "_model_module_version": "1.5.0",
      "_model_name": "DescriptionStyleModel",
      "_view_count": null,
      "_view_module": "@jupyter-widgets/base",
      "_view_module_version": "1.2.0",
      "_view_name": "StyleView",
      "description_width": ""
     }
    }
   }
  }
 },
 "nbformat": 4,
 "nbformat_minor": 1
}
